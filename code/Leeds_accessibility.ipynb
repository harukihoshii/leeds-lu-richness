{
 "cells": [
  {
   "cell_type": "code",
   "execution_count": null,
   "metadata": {},
   "outputs": [],
   "source": [
    "import numpy as np\n",
    "import pandas as pd\n",
    "import osmnx as ox\n",
    "import geopandas as gpd\n",
    "\n",
    "import pandana\n",
    "print(pandana.__version__)"
   ]
  },
  {
   "cell_type": "markdown",
   "metadata": {},
   "source": [
    "### 01. Prepare routable network using Pandana"
   ]
  },
  {
   "cell_type": "code",
   "execution_count": null,
   "metadata": {},
   "outputs": [],
   "source": [
    "pd.options.display.float_format = '{:.2f}'.format"
   ]
  },
  {
   "cell_type": "code",
   "execution_count": null,
   "metadata": {},
   "outputs": [],
   "source": [
    "from pandana.loaders import osm\n",
    "\n",
    "import warnings\n",
    "warnings.filterwarnings('ignore')"
   ]
  },
  {
   "cell_type": "code",
   "execution_count": null,
   "metadata": {},
   "outputs": [],
   "source": [
    "# Step 1: Retrieve street network data for Leeds\n",
    "place = \"Leeds, United Kingdom\"\n",
    "streets_graph = ox.graph_from_place(place, network_type='walk')"
   ]
  },
  {
   "cell_type": "code",
   "execution_count": null,
   "metadata": {},
   "outputs": [],
   "source": [
    "# Plot the original graph\n",
    "fig, ax = ox.plot_graph(streets_graph, node_size=0.5)"
   ]
  },
  {
   "cell_type": "code",
   "execution_count": null,
   "metadata": {},
   "outputs": [],
   "source": [
    "edges = ox.graph_to_gdfs(streets_graph, nodes=False)\n",
    "nodes = ox.graph_to_gdfs(streets_graph, edges=False)\n",
    "edges_df = edges.reset_index()\n",
    "nodes_df = nodes.reset_index()"
   ]
  },
  {
   "cell_type": "code",
   "execution_count": null,
   "metadata": {},
   "outputs": [],
   "source": [
    "nodes_df.set_index('osmid', inplace=True)"
   ]
  },
  {
   "cell_type": "code",
   "execution_count": null,
   "metadata": {},
   "outputs": [],
   "source": [
    "edges_df['from'] = edges_df['u'].copy()\n",
    "edges_df['to'] = edges_df['v'].copy()"
   ]
  },
  {
   "cell_type": "code",
   "execution_count": null,
   "metadata": {},
   "outputs": [],
   "source": [
    "edges_df = edges_df[['from', 'to', 'length']]"
   ]
  },
  {
   "cell_type": "code",
   "execution_count": null,
   "metadata": {},
   "outputs": [],
   "source": [
    "edges_df['from'] = edges_df['from'].astype(int)\n",
    "edges_df['to'] = edges_df['to'].astype(int)"
   ]
  },
  {
   "cell_type": "code",
   "execution_count": null,
   "metadata": {},
   "outputs": [],
   "source": [
    "edges_df.dtypes"
   ]
  },
  {
   "cell_type": "code",
   "execution_count": null,
   "metadata": {},
   "outputs": [],
   "source": [
    "edges_df.head()"
   ]
  },
  {
   "cell_type": "code",
   "execution_count": null,
   "metadata": {},
   "outputs": [],
   "source": [
    "nodes_df.head()"
   ]
  },
  {
   "cell_type": "code",
   "execution_count": null,
   "metadata": {},
   "outputs": [],
   "source": [
    "# Create Pandana network\n",
    "network = pandana.Network(nodes['x'], nodes['y'], edges_df['from'], edges_df['to'], edge_weights = edges_df[['length']], twoway=True)"
   ]
  },
  {
   "cell_type": "code",
   "execution_count": null,
   "metadata": {},
   "outputs": [],
   "source": [
    "#Check pandana network edges\n",
    "network.edges_df.head()"
   ]
  },
  {
   "cell_type": "code",
   "execution_count": null,
   "metadata": {},
   "outputs": [],
   "source": [
    "#Check pandana network nodes\n",
    "network.nodes_df.head()"
   ]
  },
  {
   "cell_type": "markdown",
   "metadata": {},
   "source": [
    "### 02. Construct land use datasets using OSM"
   ]
  },
  {
   "cell_type": "code",
   "execution_count": null,
   "metadata": {},
   "outputs": [],
   "source": [
    "tags = {\"amenity\":True}\n",
    "amenity_gdf = ox.geometries_from_place(place, tags)\n",
    "amenity_gdf.shape"
   ]
  },
  {
   "cell_type": "code",
   "execution_count": null,
   "metadata": {},
   "outputs": [],
   "source": [
    "amenity_sel_gdf = amenity_gdf[amenity_gdf.geom_type == 'Point']"
   ]
  },
  {
   "cell_type": "code",
   "execution_count": null,
   "metadata": {},
   "outputs": [],
   "source": [
    "#Check unique land use types\n",
    "amenities_list = amenity_sel_gdf['amenity'].unique()\n",
    "print(sorted(amenities_list))"
   ]
  },
  {
   "cell_type": "code",
   "execution_count": null,
   "metadata": {},
   "outputs": [],
   "source": [
    "#List of amenities by types\n",
    "culture_list = ['arts_centre', 'dancing_school', 'dojo', 'theatre' ]\n",
    "food_list = ['bar', 'cafe', 'fast_food', 'food_court', 'ice_cream', 'pub', 'restaurant', 'vending_machine']\n",
    "commercial_list = ['atm','bank','bureau_de_change','car_rental', 'car_wash', 'charging_station', 'coworking_space', 'credit_union', 'money_transfer', 'post_office']\n",
    "community_list = ['childcare','community_centre', 'kindergarten', 'library', 'nursing_home', 'police', 'social_centre', 'social_club', 'social_facility','townhall']\n",
    "education_list = ['college', 'driving_school', 'school','university']\n",
    "medical_list = ['clinic', 'dentist', 'doctors', 'hospital', 'pharmacy']\n",
    "leisure_list = ['casino', 'cinema', 'events_venue', 'health_spa', 'music_venue', 'music_venue,events_venue,_bar', 'nightclub']\n",
    "religion_list = ['place_of_worship']\n",
    "\n",
    "# Filtering the amenities\n",
    "culture_filtered = amenity_sel_gdf[amenity_sel_gdf['amenity'].isin(culture_list)]\n",
    "food_filtered = amenity_sel_gdf[amenity_sel_gdf['amenity'].isin(food_list)]\n",
    "commercial_filtered = amenity_sel_gdf[amenity_sel_gdf['amenity'].isin(commercial_list)]\n",
    "community_filtered = amenity_sel_gdf[amenity_sel_gdf['amenity'].isin(community_list)]\n",
    "education_filtered = amenity_sel_gdf[amenity_sel_gdf['amenity'].isin(education_list)]\n",
    "medical_filtered = amenity_sel_gdf[amenity_sel_gdf['amenity'].isin(medical_list)]\n",
    "leisure_filtered = amenity_sel_gdf[amenity_sel_gdf['amenity'].isin(leisure_list)]\n",
    "religion_filtered = amenity_sel_gdf[amenity_sel_gdf['amenity'] == 'place_of_worship']"
   ]
  },
  {
   "cell_type": "code",
   "execution_count": null,
   "metadata": {},
   "outputs": [],
   "source": [
    "medical_filtered.to_file(\"/data/leeds_medical.gpkg\", layer='medical',driver=\"GPKG\")"
   ]
  },
  {
   "cell_type": "code",
   "execution_count": null,
   "metadata": {},
   "outputs": [],
   "source": [
    "medical_filtered.describe()"
   ]
  },
  {
   "cell_type": "code",
   "execution_count": null,
   "metadata": {},
   "outputs": [],
   "source": [
    "culture_filtered['lat'] = culture_filtered.geometry.y\n",
    "culture_filtered['lon'] = culture_filtered.geometry.x\n",
    "\n",
    "food_filtered['lat'] = food_filtered.geometry.y\n",
    "food_filtered['lon'] = food_filtered.geometry.x\n",
    "\n",
    "commercial_filtered['lat'] = commercial_filtered.geometry.y\n",
    "commercial_filtered['lon'] = commercial_filtered.geometry.x\n",
    "\n",
    "community_filtered['lat'] = community_filtered.geometry.y\n",
    "community_filtered['lon'] = community_filtered.geometry.x\n",
    "\n",
    "education_filtered['lat'] = education_filtered.geometry.y\n",
    "education_filtered['lon'] = education_filtered.geometry.x\n",
    "\n",
    "medical_filtered['lat'] = medical_filtered.geometry.y\n",
    "medical_filtered['lon'] = medical_filtered.geometry.x\n",
    "\n",
    "leisure_filtered['lat'] = leisure_filtered.geometry.y\n",
    "leisure_filtered['lon'] = leisure_filtered.geometry.x\n",
    "\n",
    "religion_filtered['lat'] = religion_filtered.geometry.y\n",
    "religion_filtered['lon'] = religion_filtered.geometry.x"
   ]
  },
  {
   "cell_type": "code",
   "execution_count": null,
   "metadata": {},
   "outputs": [],
   "source": [
    "culture_gdf = culture_filtered.reset_index()\n",
    "food_gdf = food_filtered.reset_index()\n",
    "commercial_gdf = commercial_filtered.reset_index()\n",
    "community_gdf = community_filtered.reset_index()\n",
    "education_gdf = education_filtered.reset_index()\n",
    "medical_gdf = medical_filtered.reset_index()\n",
    "leisure_gdf = leisure_filtered.reset_index()\n",
    "religion_gdf = religion_filtered.reset_index()"
   ]
  },
  {
   "cell_type": "code",
   "execution_count": null,
   "metadata": {},
   "outputs": [],
   "source": [
    "culture_gdf.set_index('osmid', inplace=True)\n",
    "food_gdf.set_index('osmid', inplace=True)\n",
    "commercial_gdf.set_index('osmid', inplace=True)\n",
    "community_gdf.set_index('osmid', inplace=True)\n",
    "education_gdf.set_index('osmid', inplace=True)\n",
    "medical_gdf.set_index('osmid', inplace=True)\n",
    "leisure_gdf.set_index('osmid', inplace=True)\n",
    "religion_gdf.set_index('osmid', inplace=True)"
   ]
  },
  {
   "cell_type": "code",
   "execution_count": null,
   "metadata": {},
   "outputs": [],
   "source": [
    "print(\"DataFrame Summary:\")\n",
    "print(offices_gdf)"
   ]
  },
  {
   "cell_type": "markdown",
   "metadata": {},
   "source": [
    "### 03. Compute accessibility to land use"
   ]
  },
  {
   "cell_type": "markdown",
   "metadata": {},
   "source": [
    "**Access to Culture** \n",
    "\n",
    "How many of each amenities are within 800 meters of each node? Will check the results everytime. "
   ]
  },
  {
   "cell_type": "code",
   "execution_count": null,
   "metadata": {},
   "outputs": [],
   "source": [
    "culture_nodes = network.get_node_ids(culture_gdf.lon, culture_gdf.lat)\n",
    "culture_nodes.head()"
   ]
  },
  {
   "cell_type": "code",
   "execution_count": null,
   "metadata": {},
   "outputs": [],
   "source": [
    "network.set(culture_nodes, \n",
    "            name = 'culture')\n",
    "culture_accessibility = network.aggregate(distance = 800,\n",
    "                                  type = 'count',\n",
    "                                  name = 'culture')\n",
    "culture_accessibility.describe()"
   ]
  },
  {
   "cell_type": "markdown",
   "metadata": {},
   "source": [
    "**Access to food**"
   ]
  },
  {
   "cell_type": "code",
   "execution_count": null,
   "metadata": {},
   "outputs": [],
   "source": [
    "food_nodes = network.get_node_ids(food_gdf.lon, food_gdf.lat)\n",
    "network.set(food_nodes, \n",
    "            name = 'food')\n",
    "food_accessibility = network.aggregate(distance = 800,\n",
    "                                  type = 'count',\n",
    "                                  name = 'food')\n",
    "food_accessibility.describe()"
   ]
  },
  {
   "cell_type": "markdown",
   "metadata": {},
   "source": [
    "**Access to commerical**"
   ]
  },
  {
   "cell_type": "code",
   "execution_count": null,
   "metadata": {},
   "outputs": [],
   "source": [
    "commercial_nodes = network.get_node_ids(commercial_gdf.lon, commercial_gdf.lat)\n",
    "network.set(commercial_nodes, \n",
    "            name = 'commercial')\n",
    "commercial_accessibility = network.aggregate(distance = 800,\n",
    "                                  type = 'count',\n",
    "                                  name = 'commercial')\n",
    "commercial_accessibility.describe()"
   ]
  },
  {
   "cell_type": "markdown",
   "metadata": {},
   "source": [
    "**Access to community**"
   ]
  },
  {
   "cell_type": "code",
   "execution_count": null,
   "metadata": {},
   "outputs": [],
   "source": [
    "community_nodes = network.get_node_ids(community_gdf.lon, community_gdf.lat)\n",
    "network.set(community_nodes, \n",
    "            name = 'community')\n",
    "community_accessibility = network.aggregate(distance = 800,\n",
    "                                  type = 'count',\n",
    "                                  name = 'community')\n",
    "community_accessibility.describe()"
   ]
  },
  {
   "cell_type": "markdown",
   "metadata": {},
   "source": [
    "**Access to education**"
   ]
  },
  {
   "cell_type": "code",
   "execution_count": null,
   "metadata": {},
   "outputs": [],
   "source": [
    "education_nodes = network.get_node_ids(education_gdf.lon, education_gdf.lat)\n",
    "network.set(education_nodes, \n",
    "            name = 'education')\n",
    "education_accessibility = network.aggregate(distance = 800,\n",
    "                                  type = 'count',\n",
    "                                  name = 'education')\n",
    "education_accessibility.describe()"
   ]
  },
  {
   "cell_type": "markdown",
   "metadata": {},
   "source": [
    "**Access to medical**"
   ]
  },
  {
   "cell_type": "code",
   "execution_count": null,
   "metadata": {},
   "outputs": [],
   "source": [
    "medical_nodes = network.get_node_ids(medical_gdf.lon, medical_gdf.lat)\n",
    "network.set(medical_nodes, \n",
    "            name = 'medical')\n",
    "medical_accessibility = network.aggregate(distance = 800,\n",
    "                                  type = 'count',\n",
    "                                  name = 'medical')\n",
    "medical_accessibility.describe()"
   ]
  },
  {
   "cell_type": "markdown",
   "metadata": {},
   "source": [
    "**Access to leisure**"
   ]
  },
  {
   "cell_type": "code",
   "execution_count": null,
   "metadata": {},
   "outputs": [],
   "source": [
    "leisure_nodes = network.get_node_ids(leisure_gdf.lon, leisure_gdf.lat)\n",
    "network.set(leisure_nodes, \n",
    "            name = 'leisure')\n",
    "leisure_accessibility = network.aggregate(distance = 800,\n",
    "                                  type = 'count',\n",
    "                                  name = 'leisure')\n",
    "leisure_accessibility.describe()"
   ]
  },
  {
   "cell_type": "markdown",
   "metadata": {},
   "source": [
    "**Access to religion**"
   ]
  },
  {
   "cell_type": "code",
   "execution_count": null,
   "metadata": {},
   "outputs": [],
   "source": [
    "religion_nodes = network.get_node_ids(religion_gdf.lon, religion_gdf.lat)\n",
    "network.set(religion_nodes, \n",
    "            name = 'religion')\n",
    "religion_accessibility = network.aggregate(distance = 800,\n",
    "                                  type = 'count',\n",
    "                                  name = 'religion')\n",
    "religion_accessibility.describe()"
   ]
  },
  {
   "cell_type": "code",
   "execution_count": null,
   "metadata": {},
   "outputs": [],
   "source": [
    "# Check the ouput using the examples from pandana demo\n",
    "import matplotlib.pyplot as plt\n",
    "import matplotlib.colors as mcolors\n",
    "fig, ax = plt.subplots(figsize=(11,7))\n",
    "\n",
    "plt.title('Leeds: Food POI within 800m')\n",
    "plt.scatter(network.nodes_df.x, network.nodes_df.y, \n",
    "            c=commercial_accessibility, s=1, cmap='YlOrRd', \n",
    "            norm=mcolors.BoundaryNorm(boundaries=np.linspace(min(commercial_accessibility), max(commercial_accessibility), 11), \n",
    "                                      ncolors=256),\n",
    "                      edgecolor='none')  # Remove black outlines\n",
    "cb = plt.colorbar()\n",
    "cb.outline.set_edgecolor('none')\n",
    "plt.show()"
   ]
  },
  {
   "cell_type": "code",
   "execution_count": 97,
   "metadata": {},
   "outputs": [],
   "source": [
    "# Add data to network.nodes_df\n",
    "network.nodes_df['culture_choice_800m'] = culture_accessibility\n",
    "network.nodes_df['commercial_choice_800m'] = commercial_accessibility\n",
    "network.nodes_df['food_choice_800m'] = food_accessibility\n",
    "network.nodes_df['community_choice_800m'] = community_accessibility\n",
    "network.nodes_df['education_choice_800m'] = education_accessibility\n",
    "network.nodes_df['leisure_choice_800m'] = leisure_accessibility\n",
    "network.nodes_df['religion_choice_800m'] = religion_accessibility\n",
    "network.nodes_df['medical_choice_800m'] = medical_accessibility\n",
    "\n",
    "# Save it as csv\n",
    "network.nodes_df.to_csv('/data/leeds_nodes.csv')"
   ]
  },
  {
   "cell_type": "markdown",
   "metadata": {},
   "source": [
    "### 04. Compute nearest distances to amenities \n",
    "(Not used for the final richness index but useuful to have when neeed)"
   ]
  },
  {
   "cell_type": "code",
   "execution_count": null,
   "metadata": {},
   "outputs": [],
   "source": [
    "# Precompute catchment\n",
    "network.precompute(distance=800)  # Calculate accessibility within a distance of 800 meters\n",
    "\n",
    "# Set pois\n",
    "network.set_pois(\"offices\", 800, 10, offices_gdf['lon'], offices_gdf['lat'])\n",
    "\n",
    "# Get the distance to the nearest offices nodes\n",
    "nearest_offices_distances = network.nearest_pois(distance=800, category='offices')"
   ]
  },
  {
   "cell_type": "code",
   "execution_count": null,
   "metadata": {},
   "outputs": [],
   "source": [
    "fig, ax = plt.subplots(figsize=(10,5))\n",
    "\n",
    "plt.title('Leeds: Distance to the nearest office')\n",
    "plt.scatter(network.nodes_df.x, network.nodes_df.y, \n",
    "            c=nearest_offices_distances, s=1, cmap='YlOrRd', \n",
    "            norm=matplotlib.colors.LogNorm())\n",
    "cb = plt.colorbar()\n",
    "\n",
    "plt.show()"
   ]
  },
  {
   "cell_type": "markdown",
   "metadata": {},
   "source": [
    "### 05. Get building layers"
   ]
  },
  {
   "cell_type": "code",
   "execution_count": null,
   "metadata": {},
   "outputs": [],
   "source": [
    "# Define the tag to query for buildings\n",
    "tags = {\"building\": True}\n",
    "place = \"Leeds, United Kingdom\"\n",
    "# Query for building footprints within Amsterdam\n",
    "building_gdf = ox.geometries_from_place(place, tags=tags)"
   ]
  },
  {
   "cell_type": "code",
   "execution_count": null,
   "metadata": {},
   "outputs": [],
   "source": [
    "print(type(building_gdf))"
   ]
  },
  {
   "cell_type": "code",
   "execution_count": null,
   "metadata": {},
   "outputs": [],
   "source": [
    "# Filter out rows with 'node' as element_type\n",
    "buildings_filtered = building_gdf.loc[building_gdf.index.get_level_values('element_type') != 'node']"
   ]
  },
  {
   "cell_type": "code",
   "execution_count": null,
   "metadata": {},
   "outputs": [],
   "source": [
    "buildings_filtered.plot()"
   ]
  },
  {
   "cell_type": "code",
   "execution_count": null,
   "metadata": {},
   "outputs": [],
   "source": [
    "buildings_filtered = buildings_filtered.reset_index()\n",
    "buildings_gdf = buildings_filtered.set_index('osmid')"
   ]
  },
  {
   "cell_type": "code",
   "execution_count": null,
   "metadata": {},
   "outputs": [],
   "source": [
    "buildings_gdf_projected = ox.projection.project_gdf(buildings_filtered)"
   ]
  },
  {
   "cell_type": "code",
   "execution_count": null,
   "metadata": {},
   "outputs": [],
   "source": [
    "buildings_gdf = buildings_gdf_projected.set_crs('EPSG:27700', allow_override=True)\n",
    "buildings_gdf.crs"
   ]
  },
  {
   "cell_type": "markdown",
   "metadata": {},
   "source": [
    "### 06. Compute land use richness & Join nodes attributes to buildings for visualisation \n",
    "(QGIS might be more stable to run nearest join for 300k buildings)"
   ]
  },
  {
   "cell_type": "code",
   "execution_count": 99,
   "metadata": {},
   "outputs": [],
   "source": [
    "from shapely.geometry import Point\n",
    "import pandas as pd\n",
    "import geopandas as gpd\n",
    "from shapely.ops import nearest_points\n",
    "from shapely.strtree import STRtree\n",
    "from shapely.geometry import Point\n",
    "# Define the CRS \n",
    "crs = 'EPSG:27700'\n",
    "\n",
    "# Read the CSV file with longitude and latitude data using geopandas\n",
    "amenities_gdf = pd.read_csv('/data/leeds_nodes.csv')\n",
    "\n",
    "# Create a geometry column with Point objects from longitude (x) and latitude (y)\n",
    "geometry = [Point(xy) for xy in zip(amenities_gdf['x'], amenities_gdf['y'])]\n",
    "\n",
    "# Create a GeoDataFrame with the geometry column and CRS\n",
    "amenities_gdf = gpd.GeoDataFrame(amenities_gdf, geometry=geometry, crs=crs)"
   ]
  },
  {
   "cell_type": "code",
   "execution_count": null,
   "metadata": {},
   "outputs": [],
   "source": [
    "amenities_gdf.crs"
   ]
  },
  {
   "cell_type": "code",
   "execution_count": null,
   "metadata": {},
   "outputs": [],
   "source": [
    "# Create a spatial index for nodes_gdf\n",
    "nodes_tree = STRtree(amenities_gdf.geometry)"
   ]
  },
  {
   "cell_type": "code",
   "execution_count": null,
   "metadata": {},
   "outputs": [],
   "source": [
    "#Using buildings layer cleaned in the earlier step\n",
    "buildings_joined_gdf = buildings_gdf.sjoin_nearest(amenities_gdf)"
   ]
  },
  {
   "cell_type": "code",
   "execution_count": null,
   "metadata": {},
   "outputs": [],
   "source": [
    "buildings_joined_gdf.head()"
   ]
  },
  {
   "cell_type": "code",
   "execution_count": null,
   "metadata": {},
   "outputs": [],
   "source": [
    "# Define a function to calculate the richness score\n",
    "def calculate_richness(row):\n",
    "    columns = ['culture_choice_800m','commercial_choice_800m', 'food_choice_800m', 'community_choice_800m', 'education_choice_800m', 'leisure_choice_800m', 'religion_choice_800m', 'medical_choice_800m']\n",
    "    return sum(1 for col in columns if pd.notnull(row[col]) and row[col] != 0)\n",
    "\n",
    "buildings_joined_gdf['richness'] = buildings_joined_gdf.apply(calculate_richness, axis=1)\n",
    "\n",
    "print(buildings_joined_gdf)"
   ]
  },
  {
   "cell_type": "code",
   "execution_count": 14,
   "metadata": {},
   "outputs": [],
   "source": [
    "# Find columns with 'list' data type to clean the joined layer so that it can be exported to shp, geopackage etc.\n",
    "columns_with_lists = [col for col, dtype in buildings_gdf.dtypes.items() if dtype == 'object' and isinstance(buildings_gdf[col].iloc[0], list)]\n",
    "\n",
    "# Drop columns with 'list' data type\n",
    "buildings_gdf = buildings_gdf.drop(columns_with_lists, axis=1)"
   ]
  },
  {
   "cell_type": "code",
   "execution_count": null,
   "metadata": {},
   "outputs": [],
   "source": [
    "columns_with_lists"
   ]
  },
  {
   "cell_type": "code",
   "execution_count": 28,
   "metadata": {},
   "outputs": [],
   "source": [
    "#otherwise export buildings and join in Q\n",
    "columns_to_keep = ['geometry', 'building']\n",
    "buildings_final_gdf = buildings_gdf[columns_to_keep]"
   ]
  },
  {
   "cell_type": "code",
   "execution_count": null,
   "metadata": {},
   "outputs": [],
   "source": [
    "buildings_final_gdf.head()"
   ]
  },
  {
   "cell_type": "code",
   "execution_count": 31,
   "metadata": {},
   "outputs": [],
   "source": [
    "# Save the GeoDataFrame to a GeoPackage file\n",
    "buildings_final_gdf.to_file(\"/data/leeds_buildings.gpkg\", layer='buildings_leeds',driver=\"GPKG\")"
   ]
  }
 ],
 "metadata": {
  "kernelspec": {
   "display_name": "Python 3 (ipykernel)",
   "language": "python",
   "name": "python3"
  },
  "language_info": {
   "codemirror_mode": {
    "name": "ipython",
    "version": 3
   },
   "file_extension": ".py",
   "mimetype": "text/x-python",
   "name": "python",
   "nbconvert_exporter": "python",
   "pygments_lexer": "ipython3",
   "version": "3.9.7"
  }
 },
 "nbformat": 4,
 "nbformat_minor": 4
}
